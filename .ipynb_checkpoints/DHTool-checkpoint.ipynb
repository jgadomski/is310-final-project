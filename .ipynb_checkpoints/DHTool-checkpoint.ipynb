{
 "cells": [
  {
   "cell_type": "code",
   "execution_count": 5,
   "metadata": {},
   "outputs": [
    {
     "name": "stdout",
     "output_type": "stream",
     "text": [
      "9\n",
      "9\n",
      "None\n",
      "{'tool_name': 'Python', 'authors': ['Guido van Rossum'], 'year_values': {'2015': 9}, 'total_value': 0, 'total_popularity': 9}\n"
     ]
    }
   ],
   "source": [
    "class DHTool:\n",
    "    def __init__(self, name):\n",
    "        self.tool_name = name\n",
    "        self.authors = list()\n",
    "        self.year_values = dict()\n",
    "        self.total_value = 0\n",
    "\n",
    "\n",
    "    def add_authors(self, authors):\n",
    "        if isinstance(authors, list) is False:\n",
    "            authors = [authors]\n",
    "\n",
    "        self.authors.extend(authors)\n",
    "\n",
    "\n",
    "    def add_year_popularity(self, year, value):\n",
    "        \n",
    "        self.year_values[str(year)] = value\n",
    "\n",
    "\n",
    "    def calculate_total_popularity(self):\n",
    "        \n",
    "\n",
    "        self.total_popularity = sum(self.year_values.values())\n",
    "        print(self.total_popularity)\n",
    "        \n",
    "    def get_tool_info(self):\n",
    "            print(self.__dict__)\n",
    "\n",
    "a_tool = DHTool(\"Python\")\n",
    "a_tool.add_authors(\"Guido van Rossum\")\n",
    "a_tool.add_year_popularity(2015, 9)\n",
    "a_tool.calculate_total_popularity()\n",
    "print(a_tool.total_popularity)\n",
    "\n",
    "print(a_tool.add_year_popularity.__doc__)\n",
    "a_tool.get_tool_info()"
   ]
  },
  {
   "cell_type": "code",
   "execution_count": 2,
   "metadata": {},
   "outputs": [],
   "source": [
    "def make_dh_tool(name):\n",
    "    dh_tool = dict() #Could also write {}\n",
    "    dh_tool.tool_name = name\n",
    "    dh_tool.authors = alist()\n",
    "    dh_tool.year_values = dict()\n",
    "    dh_tool.total_value = 0"
   ]
  },
  {
   "cell_type": "code",
   "execution_count": null,
   "metadata": {},
   "outputs": [],
   "source": []
  },
  {
   "cell_type": "code",
   "execution_count": null,
   "metadata": {},
   "outputs": [],
   "source": []
  }
 ],
 "metadata": {
  "kernelspec": {
   "display_name": "Python 3",
   "language": "python",
   "name": "python3"
  },
  "language_info": {
   "codemirror_mode": {
    "name": "ipython",
    "version": 3
   },
   "file_extension": ".py",
   "mimetype": "text/x-python",
   "name": "python",
   "nbconvert_exporter": "python",
   "pygments_lexer": "ipython3",
   "version": "3.8.3"
  }
 },
 "nbformat": 4,
 "nbformat_minor": 4
}
